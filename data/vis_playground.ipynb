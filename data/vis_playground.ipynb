{
 "cells": [
  {
   "cell_type": "code",
   "execution_count": 1,
   "metadata": {},
   "outputs": [],
   "source": [
    "import pandas as pd\n",
    "import numpy as np\n",
    "import plotly.express as px\n",
    "import plotly.graph_objects as go\n"
   ]
  },
  {
   "cell_type": "code",
   "execution_count": 2,
   "metadata": {},
   "outputs": [
    {
     "data": {
      "text/html": [
       "<div>\n",
       "<style scoped>\n",
       "    .dataframe tbody tr th:only-of-type {\n",
       "        vertical-align: middle;\n",
       "    }\n",
       "\n",
       "    .dataframe tbody tr th {\n",
       "        vertical-align: top;\n",
       "    }\n",
       "\n",
       "    .dataframe thead th {\n",
       "        text-align: right;\n",
       "    }\n",
       "</style>\n",
       "<table border=\"1\" class=\"dataframe\">\n",
       "  <thead>\n",
       "    <tr style=\"text-align: right;\">\n",
       "      <th></th>\n",
       "      <th>YEAR</th>\n",
       "      <th>LOC</th>\n",
       "      <th>STATE</th>\n",
       "      <th>COUNTY_CITY</th>\n",
       "      <th>BRAND</th>\n",
       "      <th>NAME</th>\n",
       "      <th>PCODE</th>\n",
       "      <th>YIELD</th>\n",
       "      <th>WATER_REGIME</th>\n",
       "      <th>MOIST</th>\n",
       "      <th>TW</th>\n",
       "      <th>DAYS</th>\n",
       "    </tr>\n",
       "  </thead>\n",
       "  <tbody>\n",
       "    <tr>\n",
       "      <th>0</th>\n",
       "      <td>1982</td>\n",
       "      <td>DND</td>\n",
       "      <td>KS</td>\n",
       "      <td>DONIPHAN</td>\n",
       "      <td>ASGROW</td>\n",
       "      <td>RX 90</td>\n",
       "      <td>992</td>\n",
       "      <td>127</td>\n",
       "      <td>Dryland</td>\n",
       "      <td>17</td>\n",
       "      <td>57</td>\n",
       "      <td>NaN</td>\n",
       "    </tr>\n",
       "    <tr>\n",
       "      <th>1</th>\n",
       "      <td>1982</td>\n",
       "      <td>DND</td>\n",
       "      <td>KS</td>\n",
       "      <td>DONIPHAN</td>\n",
       "      <td>FUNK'S</td>\n",
       "      <td>G-4578</td>\n",
       "      <td>1661</td>\n",
       "      <td>135</td>\n",
       "      <td>Dryland</td>\n",
       "      <td>17</td>\n",
       "      <td>58</td>\n",
       "      <td>NaN</td>\n",
       "    </tr>\n",
       "    <tr>\n",
       "      <th>2</th>\n",
       "      <td>1982</td>\n",
       "      <td>DND</td>\n",
       "      <td>KS</td>\n",
       "      <td>DONIPHAN</td>\n",
       "      <td>FUNK'S</td>\n",
       "      <td>G-4673A</td>\n",
       "      <td>1658</td>\n",
       "      <td>110</td>\n",
       "      <td>Dryland</td>\n",
       "      <td>19</td>\n",
       "      <td>57</td>\n",
       "      <td>NaN</td>\n",
       "    </tr>\n",
       "    <tr>\n",
       "      <th>3</th>\n",
       "      <td>1982</td>\n",
       "      <td>DND</td>\n",
       "      <td>KS</td>\n",
       "      <td>DONIPHAN</td>\n",
       "      <td>FONTANELLE</td>\n",
       "      <td>680</td>\n",
       "      <td>1656</td>\n",
       "      <td>135</td>\n",
       "      <td>Dryland</td>\n",
       "      <td>21</td>\n",
       "      <td>58</td>\n",
       "      <td>NaN</td>\n",
       "    </tr>\n",
       "    <tr>\n",
       "      <th>4</th>\n",
       "      <td>1982</td>\n",
       "      <td>DND</td>\n",
       "      <td>KS</td>\n",
       "      <td>DONIPHAN</td>\n",
       "      <td>FONTANELLE</td>\n",
       "      <td>690</td>\n",
       "      <td>1655</td>\n",
       "      <td>126</td>\n",
       "      <td>Dryland</td>\n",
       "      <td>20</td>\n",
       "      <td>56</td>\n",
       "      <td>NaN</td>\n",
       "    </tr>\n",
       "    <tr>\n",
       "      <th>...</th>\n",
       "      <td>...</td>\n",
       "      <td>...</td>\n",
       "      <td>...</td>\n",
       "      <td>...</td>\n",
       "      <td>...</td>\n",
       "      <td>...</td>\n",
       "      <td>...</td>\n",
       "      <td>...</td>\n",
       "      <td>...</td>\n",
       "      <td>...</td>\n",
       "      <td>...</td>\n",
       "      <td>...</td>\n",
       "    </tr>\n",
       "    <tr>\n",
       "      <th>25250</th>\n",
       "      <td>2023</td>\n",
       "      <td>NaN</td>\n",
       "      <td>KS</td>\n",
       "      <td>FRANKLIN</td>\n",
       "      <td>INDIGO</td>\n",
       "      <td>CONTROL</td>\n",
       "      <td>5784</td>\n",
       "      <td>161</td>\n",
       "      <td>Dryland</td>\n",
       "      <td>13</td>\n",
       "      <td>60</td>\n",
       "      <td>0.0</td>\n",
       "    </tr>\n",
       "    <tr>\n",
       "      <th>25251</th>\n",
       "      <td>2023</td>\n",
       "      <td>NaN</td>\n",
       "      <td>KS</td>\n",
       "      <td>FRANKLIN</td>\n",
       "      <td>LEWIS</td>\n",
       "      <td>17DP651</td>\n",
       "      <td>5780</td>\n",
       "      <td>170</td>\n",
       "      <td>Dryland</td>\n",
       "      <td>14</td>\n",
       "      <td>59</td>\n",
       "      <td>0.0</td>\n",
       "    </tr>\n",
       "    <tr>\n",
       "      <th>25252</th>\n",
       "      <td>2023</td>\n",
       "      <td>NaN</td>\n",
       "      <td>KS</td>\n",
       "      <td>FRANKLIN</td>\n",
       "      <td>LEWIS</td>\n",
       "      <td>11DT912</td>\n",
       "      <td>5801</td>\n",
       "      <td>145</td>\n",
       "      <td>Dryland</td>\n",
       "      <td>13</td>\n",
       "      <td>59</td>\n",
       "      <td>0.0</td>\n",
       "    </tr>\n",
       "    <tr>\n",
       "      <th>25253</th>\n",
       "      <td>2023</td>\n",
       "      <td>NaN</td>\n",
       "      <td>KS</td>\n",
       "      <td>FRANKLIN</td>\n",
       "      <td>NK</td>\n",
       "      <td>NK1188-AA</td>\n",
       "      <td>5812</td>\n",
       "      <td>160</td>\n",
       "      <td>Dryland</td>\n",
       "      <td>13</td>\n",
       "      <td>59</td>\n",
       "      <td>0.0</td>\n",
       "    </tr>\n",
       "    <tr>\n",
       "      <th>25254</th>\n",
       "      <td>2023</td>\n",
       "      <td>NaN</td>\n",
       "      <td>KS</td>\n",
       "      <td>FRANKLIN</td>\n",
       "      <td>NK</td>\n",
       "      <td>NK1701-V</td>\n",
       "      <td>5813</td>\n",
       "      <td>181</td>\n",
       "      <td>Dryland</td>\n",
       "      <td>13</td>\n",
       "      <td>57</td>\n",
       "      <td>0.0</td>\n",
       "    </tr>\n",
       "  </tbody>\n",
       "</table>\n",
       "<p>25255 rows × 12 columns</p>\n",
       "</div>"
      ],
      "text/plain": [
       "       YEAR  LOC STATE COUNTY_CITY       BRAND       NAME  PCODE  YIELD  \\\n",
       "0      1982  DND    KS    DONIPHAN      ASGROW      RX 90    992    127   \n",
       "1      1982  DND    KS    DONIPHAN      FUNK'S     G-4578   1661    135   \n",
       "2      1982  DND    KS    DONIPHAN      FUNK'S    G-4673A   1658    110   \n",
       "3      1982  DND    KS    DONIPHAN  FONTANELLE        680   1656    135   \n",
       "4      1982  DND    KS    DONIPHAN  FONTANELLE        690   1655    126   \n",
       "...     ...  ...   ...         ...         ...        ...    ...    ...   \n",
       "25250  2023  NaN    KS    FRANKLIN      INDIGO    CONTROL   5784    161   \n",
       "25251  2023  NaN    KS    FRANKLIN       LEWIS    17DP651   5780    170   \n",
       "25252  2023  NaN    KS    FRANKLIN       LEWIS    11DT912   5801    145   \n",
       "25253  2023  NaN    KS    FRANKLIN          NK  NK1188-AA   5812    160   \n",
       "25254  2023  NaN    KS    FRANKLIN          NK   NK1701-V   5813    181   \n",
       "\n",
       "      WATER_REGIME  MOIST  TW  DAYS  \n",
       "0          Dryland     17  57   NaN  \n",
       "1          Dryland     17  58   NaN  \n",
       "2          Dryland     19  57   NaN  \n",
       "3          Dryland     21  58   NaN  \n",
       "4          Dryland     20  56   NaN  \n",
       "...            ...    ...  ..   ...  \n",
       "25250      Dryland     13  60   0.0  \n",
       "25251      Dryland     14  59   0.0  \n",
       "25252      Dryland     13  59   0.0  \n",
       "25253      Dryland     13  59   0.0  \n",
       "25254      Dryland     13  57   0.0  \n",
       "\n",
       "[25255 rows x 12 columns]"
      ]
     },
     "execution_count": 2,
     "metadata": {},
     "output_type": "execute_result"
    }
   ],
   "source": [
    "df = pd.read_csv(\"datasets/corn.csv\")\n",
    "df.head(-2)"
   ]
  },
  {
   "cell_type": "code",
   "execution_count": 51,
   "metadata": {},
   "outputs": [],
   "source": [
    "col1, col2 = ('YEAR', 'NAME')\n",
    "df = df[df[\"YEAR\"] == 2019]\n",
    "avg = df.groupby(\"COUNTY\")[\"YIELD\"].mean()\n",
    "df = df[df[col2].isin([\"150PRX\", \"349PR\"])][[\n",
    "    col2, 'WATER_REGIME', 'COUNTY', 'YIELD']]"
   ]
  },
  {
   "cell_type": "code",
   "execution_count": 52,
   "metadata": {},
   "outputs": [
    {
     "data": {
      "text/html": [
       "<div>\n",
       "<style scoped>\n",
       "    .dataframe tbody tr th:only-of-type {\n",
       "        vertical-align: middle;\n",
       "    }\n",
       "\n",
       "    .dataframe tbody tr th {\n",
       "        vertical-align: top;\n",
       "    }\n",
       "\n",
       "    .dataframe thead th {\n",
       "        text-align: right;\n",
       "    }\n",
       "</style>\n",
       "<table border=\"1\" class=\"dataframe\">\n",
       "  <thead>\n",
       "    <tr style=\"text-align: right;\">\n",
       "      <th></th>\n",
       "      <th>NAME</th>\n",
       "      <th>WATER_REGIME</th>\n",
       "      <th>COUNTY</th>\n",
       "      <th>YIELD</th>\n",
       "    </tr>\n",
       "  </thead>\n",
       "  <tbody>\n",
       "    <tr>\n",
       "      <th>19371</th>\n",
       "      <td>349PR</td>\n",
       "      <td>Dryland</td>\n",
       "      <td>Pottawatomie</td>\n",
       "      <td>171.160250</td>\n",
       "    </tr>\n",
       "    <tr>\n",
       "      <th>19379</th>\n",
       "      <td>349PR</td>\n",
       "      <td>Dryland</td>\n",
       "      <td>Republic</td>\n",
       "      <td>196.333333</td>\n",
       "    </tr>\n",
       "    <tr>\n",
       "      <th>19406</th>\n",
       "      <td>150PRX</td>\n",
       "      <td>Dryland</td>\n",
       "      <td>Franklin</td>\n",
       "      <td>127.990069</td>\n",
       "    </tr>\n",
       "    <tr>\n",
       "      <th>19411</th>\n",
       "      <td>150PRX</td>\n",
       "      <td>Dryland</td>\n",
       "      <td>Labette</td>\n",
       "      <td>128.904078</td>\n",
       "    </tr>\n",
       "    <tr>\n",
       "      <th>19445</th>\n",
       "      <td>349PR</td>\n",
       "      <td>Dryland</td>\n",
       "      <td>Riley</td>\n",
       "      <td>167.828825</td>\n",
       "    </tr>\n",
       "  </tbody>\n",
       "</table>\n",
       "</div>"
      ],
      "text/plain": [
       "         NAME WATER_REGIME        COUNTY       YIELD\n",
       "19371   349PR      Dryland  Pottawatomie  171.160250\n",
       "19379   349PR      Dryland      Republic  196.333333\n",
       "19406  150PRX      Dryland      Franklin  127.990069\n",
       "19411  150PRX      Dryland       Labette  128.904078\n",
       "19445   349PR      Dryland         Riley  167.828825"
      ]
     },
     "execution_count": 52,
     "metadata": {},
     "output_type": "execute_result"
    }
   ],
   "source": [
    "df"
   ]
  },
  {
   "cell_type": "code",
   "execution_count": 53,
   "metadata": {},
   "outputs": [
    {
     "data": {
      "text/html": [
       "<div>\n",
       "<style scoped>\n",
       "    .dataframe tbody tr th:only-of-type {\n",
       "        vertical-align: middle;\n",
       "    }\n",
       "\n",
       "    .dataframe tbody tr th {\n",
       "        vertical-align: top;\n",
       "    }\n",
       "\n",
       "    .dataframe thead th {\n",
       "        text-align: right;\n",
       "    }\n",
       "</style>\n",
       "<table border=\"1\" class=\"dataframe\">\n",
       "  <thead>\n",
       "    <tr style=\"text-align: right;\">\n",
       "      <th></th>\n",
       "      <th>NAME</th>\n",
       "      <th>COUNTY</th>\n",
       "      <th>YIELD</th>\n",
       "      <th>WATER_REGIME</th>\n",
       "    </tr>\n",
       "  </thead>\n",
       "  <tbody>\n",
       "    <tr>\n",
       "      <th>0</th>\n",
       "      <td>349PR</td>\n",
       "      <td>Pottawatomie</td>\n",
       "      <td>171.160250</td>\n",
       "      <td>Dryland</td>\n",
       "    </tr>\n",
       "    <tr>\n",
       "      <th>1</th>\n",
       "      <td>349PR</td>\n",
       "      <td>Republic</td>\n",
       "      <td>196.333333</td>\n",
       "      <td>Dryland</td>\n",
       "    </tr>\n",
       "    <tr>\n",
       "      <th>2</th>\n",
       "      <td>349PR</td>\n",
       "      <td>Franklin</td>\n",
       "      <td>246.333333</td>\n",
       "      <td>no_record</td>\n",
       "    </tr>\n",
       "    <tr>\n",
       "      <th>3</th>\n",
       "      <td>349PR</td>\n",
       "      <td>Labette</td>\n",
       "      <td>246.333333</td>\n",
       "      <td>no_record</td>\n",
       "    </tr>\n",
       "    <tr>\n",
       "      <th>4</th>\n",
       "      <td>349PR</td>\n",
       "      <td>Riley</td>\n",
       "      <td>167.828825</td>\n",
       "      <td>Dryland</td>\n",
       "    </tr>\n",
       "    <tr>\n",
       "      <th>5</th>\n",
       "      <td>150PRX</td>\n",
       "      <td>Pottawatomie</td>\n",
       "      <td>246.333333</td>\n",
       "      <td>no_record</td>\n",
       "    </tr>\n",
       "    <tr>\n",
       "      <th>6</th>\n",
       "      <td>150PRX</td>\n",
       "      <td>Republic</td>\n",
       "      <td>246.333333</td>\n",
       "      <td>no_record</td>\n",
       "    </tr>\n",
       "    <tr>\n",
       "      <th>7</th>\n",
       "      <td>150PRX</td>\n",
       "      <td>Franklin</td>\n",
       "      <td>127.990069</td>\n",
       "      <td>Dryland</td>\n",
       "    </tr>\n",
       "    <tr>\n",
       "      <th>8</th>\n",
       "      <td>150PRX</td>\n",
       "      <td>Labette</td>\n",
       "      <td>128.904078</td>\n",
       "      <td>Dryland</td>\n",
       "    </tr>\n",
       "    <tr>\n",
       "      <th>9</th>\n",
       "      <td>150PRX</td>\n",
       "      <td>Riley</td>\n",
       "      <td>246.333333</td>\n",
       "      <td>no_record</td>\n",
       "    </tr>\n",
       "  </tbody>\n",
       "</table>\n",
       "</div>"
      ],
      "text/plain": [
       "     NAME        COUNTY       YIELD WATER_REGIME\n",
       "0   349PR  Pottawatomie  171.160250      Dryland\n",
       "1   349PR      Republic  196.333333      Dryland\n",
       "2   349PR      Franklin  246.333333    no_record\n",
       "3   349PR       Labette  246.333333    no_record\n",
       "4   349PR         Riley  167.828825      Dryland\n",
       "5  150PRX  Pottawatomie  246.333333    no_record\n",
       "6  150PRX      Republic  246.333333    no_record\n",
       "7  150PRX      Franklin  127.990069      Dryland\n",
       "8  150PRX       Labette  128.904078      Dryland\n",
       "9  150PRX         Riley  246.333333    no_record"
      ]
     },
     "execution_count": 53,
     "metadata": {},
     "output_type": "execute_result"
    }
   ],
   "source": [
    "all_names = df['NAME'].unique()\n",
    "all_counties = df['COUNTY'].unique()\n",
    "\n",
    "new_df = pd.DataFrame([(name, county, 0, None) for name in all_names for county in all_counties],\n",
    "                      columns=['NAME', 'COUNTY', 'YIELD', 'WATER_REGIME'])\n",
    "\n",
    "# Merge the new DataFrame with the original DataFrame and fill NaN values\n",
    "result_df = pd.merge(new_df, df, on=['NAME', 'COUNTY'], how='left').fillna(0)\n",
    "result_df = result_df[['NAME', 'COUNTY', 'YIELD_y', 'WATER_REGIME_y']]\n",
    "result_df.columns = ['NAME', 'COUNTY', 'YIELD', 'WATER_REGIME']\n",
    "df = result_df\n",
    "yield_max = df.YIELD.max()\n",
    "df.YIELD = df.YIELD.replace(0.0, yield_max+50)\n",
    "df.WATER_REGIME = df.WATER_REGIME.replace(0, \"no_record\")\n",
    "df"
   ]
  },
  {
   "cell_type": "code",
   "execution_count": 54,
   "metadata": {},
   "outputs": [
    {
     "data": {
      "text/html": [
       "<div>\n",
       "<style scoped>\n",
       "    .dataframe tbody tr th:only-of-type {\n",
       "        vertical-align: middle;\n",
       "    }\n",
       "\n",
       "    .dataframe tbody tr th {\n",
       "        vertical-align: top;\n",
       "    }\n",
       "\n",
       "    .dataframe thead th {\n",
       "        text-align: right;\n",
       "    }\n",
       "</style>\n",
       "<table border=\"1\" class=\"dataframe\">\n",
       "  <thead>\n",
       "    <tr style=\"text-align: right;\">\n",
       "      <th></th>\n",
       "      <th>COUNTY</th>\n",
       "      <th>avg</th>\n",
       "    </tr>\n",
       "  </thead>\n",
       "  <tbody>\n",
       "    <tr>\n",
       "      <th>0</th>\n",
       "      <td>Doniphan</td>\n",
       "      <td>234.972879</td>\n",
       "    </tr>\n",
       "    <tr>\n",
       "      <th>1</th>\n",
       "      <td>Ellis</td>\n",
       "      <td>71.277996</td>\n",
       "    </tr>\n",
       "    <tr>\n",
       "      <th>2</th>\n",
       "      <td>Franklin</td>\n",
       "      <td>156.828113</td>\n",
       "    </tr>\n",
       "    <tr>\n",
       "      <th>3</th>\n",
       "      <td>Labette</td>\n",
       "      <td>140.777457</td>\n",
       "    </tr>\n",
       "    <tr>\n",
       "      <th>4</th>\n",
       "      <td>Pottawatomie</td>\n",
       "      <td>179.729713</td>\n",
       "    </tr>\n",
       "    <tr>\n",
       "      <th>5</th>\n",
       "      <td>Republic</td>\n",
       "      <td>175.728070</td>\n",
       "    </tr>\n",
       "    <tr>\n",
       "      <th>6</th>\n",
       "      <td>Riley</td>\n",
       "      <td>189.147318</td>\n",
       "    </tr>\n",
       "    <tr>\n",
       "      <th>7</th>\n",
       "      <td>Saline</td>\n",
       "      <td>194.844300</td>\n",
       "    </tr>\n",
       "    <tr>\n",
       "      <th>8</th>\n",
       "      <td>Shawnee</td>\n",
       "      <td>227.548860</td>\n",
       "    </tr>\n",
       "    <tr>\n",
       "      <th>9</th>\n",
       "      <td>Thomas</td>\n",
       "      <td>138.518967</td>\n",
       "    </tr>\n",
       "  </tbody>\n",
       "</table>\n",
       "</div>"
      ],
      "text/plain": [
       "         COUNTY         avg\n",
       "0      Doniphan  234.972879\n",
       "1         Ellis   71.277996\n",
       "2      Franklin  156.828113\n",
       "3       Labette  140.777457\n",
       "4  Pottawatomie  179.729713\n",
       "5      Republic  175.728070\n",
       "6         Riley  189.147318\n",
       "7        Saline  194.844300\n",
       "8       Shawnee  227.548860\n",
       "9        Thomas  138.518967"
      ]
     },
     "execution_count": 54,
     "metadata": {},
     "output_type": "execute_result"
    }
   ],
   "source": [
    "avg = pd.DataFrame(avg).reset_index()\n",
    "avg.columns = ['COUNTY', 'avg']\n",
    "avg"
   ]
  },
  {
   "cell_type": "code",
   "execution_count": 56,
   "metadata": {},
   "outputs": [
    {
     "data": {
      "application/vnd.plotly.v1+json": {
       "config": {
        "plotlyServerURL": "https://plot.ly"
       },
       "data": [
        {
         "alignmentgroup": "True",
         "hovertemplate": "Water Regime=Dryland<br>Name=349PR<br>County=%{x}<br>Yield=%{y}<extra></extra>",
         "legendgroup": "Dryland",
         "marker": {
          "color": "orange",
          "pattern": {
           "shape": ""
          }
         },
         "name": "Dryland",
         "offsetgroup": "Dryland",
         "orientation": "v",
         "showlegend": true,
         "textposition": "auto",
         "type": "bar",
         "x": [
          "Pottawatomie",
          "Republic",
          "Riley"
         ],
         "xaxis": "x",
         "y": [
          171.16025,
          196.3333333333333,
          167.82882471682166
         ],
         "yaxis": "y"
        },
        {
         "alignmentgroup": "True",
         "hovertemplate": "Water Regime=Dryland<br>Name=150PRX<br>County=%{x}<br>Yield=%{y}<extra></extra>",
         "legendgroup": "Dryland",
         "marker": {
          "color": "orange",
          "pattern": {
           "shape": ""
          }
         },
         "name": "Dryland",
         "offsetgroup": "Dryland",
         "orientation": "v",
         "showlegend": false,
         "textposition": "auto",
         "type": "bar",
         "x": [
          "Franklin",
          "Labette"
         ],
         "xaxis": "x2",
         "y": [
          127.99006863873272,
          128.90407787864308
         ],
         "yaxis": "y2"
        },
        {
         "alignmentgroup": "True",
         "hovertemplate": "Water Regime=no_record<br>Name=349PR<br>County=%{x}<br>Yield=%{y}<extra></extra>",
         "legendgroup": "no_record",
         "marker": {
          "color": "#343541",
          "pattern": {
           "shape": ""
          }
         },
         "name": "no_record",
         "offsetgroup": "no_record",
         "orientation": "v",
         "showlegend": true,
         "textposition": "auto",
         "type": "bar",
         "x": [
          "Franklin",
          "Labette"
         ],
         "xaxis": "x",
         "y": [
          246.3333333333333,
          246.3333333333333
         ],
         "yaxis": "y"
        },
        {
         "alignmentgroup": "True",
         "hovertemplate": "Water Regime=no_record<br>Name=150PRX<br>County=%{x}<br>Yield=%{y}<extra></extra>",
         "legendgroup": "no_record",
         "marker": {
          "color": "#343541",
          "pattern": {
           "shape": ""
          }
         },
         "name": "no_record",
         "offsetgroup": "no_record",
         "orientation": "v",
         "showlegend": false,
         "textposition": "auto",
         "type": "bar",
         "x": [
          "Pottawatomie",
          "Republic",
          "Riley"
         ],
         "xaxis": "x2",
         "y": [
          246.3333333333333,
          246.3333333333333,
          246.3333333333333
         ],
         "yaxis": "y2"
        },
        {
         "hovertemplate": "COUNTY=%{x}<br>avg=%{y}<extra></extra>",
         "legendgroup": "",
         "marker": {
          "color": "#636efa",
          "symbol": "circle"
         },
         "mode": "markers",
         "name": "",
         "orientation": "v",
         "showlegend": false,
         "type": "scatter",
         "x": [
          "Pottawatomie"
         ],
         "xaxis": "x",
         "y": [
          179.7297125
         ],
         "yaxis": "y"
        },
        {
         "hovertemplate": "COUNTY=%{x}<br>avg=%{y}<extra></extra>",
         "legendgroup": "",
         "marker": {
          "color": "#636efa",
          "symbol": "circle"
         },
         "mode": "markers",
         "name": "",
         "orientation": "v",
         "showlegend": false,
         "type": "scatter",
         "x": [
          "Pottawatomie"
         ],
         "xaxis": "x2",
         "y": [
          179.7297125
         ],
         "yaxis": "y2"
        },
        {
         "hovertemplate": "COUNTY=%{x}<br>avg=%{y}<extra></extra>",
         "legendgroup": "",
         "marker": {
          "color": "#636efa",
          "symbol": "circle"
         },
         "mode": "markers",
         "name": "",
         "orientation": "v",
         "showlegend": false,
         "type": "scatter",
         "x": [
          "Republic"
         ],
         "xaxis": "x",
         "y": [
          175.72807017543857
         ],
         "yaxis": "y"
        },
        {
         "hovertemplate": "COUNTY=%{x}<br>avg=%{y}<extra></extra>",
         "legendgroup": "",
         "marker": {
          "color": "#636efa",
          "symbol": "circle"
         },
         "mode": "markers",
         "name": "",
         "orientation": "v",
         "showlegend": false,
         "type": "scatter",
         "x": [
          "Republic"
         ],
         "xaxis": "x2",
         "y": [
          175.72807017543857
         ],
         "yaxis": "y2"
        },
        {
         "hovertemplate": "COUNTY=%{x}<br>avg=%{y}<extra></extra>",
         "legendgroup": "",
         "marker": {
          "color": "#636efa",
          "symbol": "circle"
         },
         "mode": "markers",
         "name": "",
         "orientation": "v",
         "showlegend": false,
         "type": "scatter",
         "x": [
          "Franklin"
         ],
         "xaxis": "x",
         "y": [
          156.82811291706128
         ],
         "yaxis": "y"
        },
        {
         "hovertemplate": "COUNTY=%{x}<br>avg=%{y}<extra></extra>",
         "legendgroup": "",
         "marker": {
          "color": "#636efa",
          "symbol": "circle"
         },
         "mode": "markers",
         "name": "",
         "orientation": "v",
         "showlegend": false,
         "type": "scatter",
         "x": [
          "Franklin"
         ],
         "xaxis": "x2",
         "y": [
          156.82811291706128
         ],
         "yaxis": "y2"
        },
        {
         "hovertemplate": "COUNTY=%{x}<br>avg=%{y}<extra></extra>",
         "legendgroup": "",
         "marker": {
          "color": "#636efa",
          "symbol": "circle"
         },
         "mode": "markers",
         "name": "",
         "orientation": "v",
         "showlegend": false,
         "type": "scatter",
         "x": [
          "Labette"
         ],
         "xaxis": "x",
         "y": [
          140.77745650730063
         ],
         "yaxis": "y"
        },
        {
         "hovertemplate": "COUNTY=%{x}<br>avg=%{y}<extra></extra>",
         "legendgroup": "",
         "marker": {
          "color": "#636efa",
          "symbol": "circle"
         },
         "mode": "markers",
         "name": "",
         "orientation": "v",
         "showlegend": false,
         "type": "scatter",
         "x": [
          "Labette"
         ],
         "xaxis": "x2",
         "y": [
          140.77745650730063
         ],
         "yaxis": "y2"
        },
        {
         "hovertemplate": "COUNTY=%{x}<br>avg=%{y}<extra></extra>",
         "legendgroup": "",
         "marker": {
          "color": "#636efa",
          "symbol": "circle"
         },
         "mode": "markers",
         "name": "",
         "orientation": "v",
         "showlegend": false,
         "type": "scatter",
         "x": [
          "Riley"
         ],
         "xaxis": "x",
         "y": [
          189.14731802327276
         ],
         "yaxis": "y"
        },
        {
         "hovertemplate": "COUNTY=%{x}<br>avg=%{y}<extra></extra>",
         "legendgroup": "",
         "marker": {
          "color": "#636efa",
          "symbol": "circle"
         },
         "mode": "markers",
         "name": "",
         "orientation": "v",
         "showlegend": false,
         "type": "scatter",
         "x": [
          "Riley"
         ],
         "xaxis": "x2",
         "y": [
          189.14731802327276
         ],
         "yaxis": "y2"
        }
       ],
       "layout": {
        "annotations": [
         {
          "font": {},
          "showarrow": false,
          "text": "349PR",
          "x": 0.245,
          "xanchor": "center",
          "xref": "paper",
          "y": 1,
          "yanchor": "bottom",
          "yref": "paper"
         },
         {
          "font": {},
          "showarrow": false,
          "text": "150PRX",
          "x": 0.755,
          "xanchor": "center",
          "xref": "paper",
          "y": 1,
          "yanchor": "bottom",
          "yref": "paper"
         }
        ],
        "barmode": "group",
        "legend": {
         "title": {
          "text": "Water Regime"
         },
         "tracegroupgap": 0
        },
        "margin": {
         "t": 60
        },
        "shapes": [
         {
          "line": {
           "color": "violet",
           "width": 250
          },
          "type": "circle",
          "x0": "Pottawatomie",
          "x1": "Pottawatomie",
          "xref": "x",
          "y0": 178.7297125,
          "y1": 180.7297125,
          "yref": "y"
         },
         {
          "line": {
           "color": "violet",
           "width": 250
          },
          "type": "circle",
          "x0": "Pottawatomie",
          "x1": "Pottawatomie",
          "xref": "x2",
          "y0": 178.7297125,
          "y1": 180.7297125,
          "yref": "y2"
         },
         {
          "line": {
           "color": "violet",
           "width": 250
          },
          "type": "circle",
          "x0": "Republic",
          "x1": "Republic",
          "xref": "x",
          "y0": 174.72807017543857,
          "y1": 176.72807017543857,
          "yref": "y"
         },
         {
          "line": {
           "color": "violet",
           "width": 250
          },
          "type": "circle",
          "x0": "Republic",
          "x1": "Republic",
          "xref": "x2",
          "y0": 174.72807017543857,
          "y1": 176.72807017543857,
          "yref": "y2"
         },
         {
          "line": {
           "color": "violet",
           "width": 250
          },
          "type": "circle",
          "x0": "Franklin",
          "x1": "Franklin",
          "xref": "x",
          "y0": 155.82811291706128,
          "y1": 157.82811291706128,
          "yref": "y"
         },
         {
          "line": {
           "color": "violet",
           "width": 250
          },
          "type": "circle",
          "x0": "Franklin",
          "x1": "Franklin",
          "xref": "x2",
          "y0": 155.82811291706128,
          "y1": 157.82811291706128,
          "yref": "y2"
         },
         {
          "line": {
           "color": "violet",
           "width": 250
          },
          "type": "circle",
          "x0": "Labette",
          "x1": "Labette",
          "xref": "x",
          "y0": 139.77745650730063,
          "y1": 141.77745650730063,
          "yref": "y"
         },
         {
          "line": {
           "color": "violet",
           "width": 250
          },
          "type": "circle",
          "x0": "Labette",
          "x1": "Labette",
          "xref": "x2",
          "y0": 139.77745650730063,
          "y1": 141.77745650730063,
          "yref": "y2"
         },
         {
          "line": {
           "color": "violet",
           "width": 250
          },
          "type": "circle",
          "x0": "Riley",
          "x1": "Riley",
          "xref": "x",
          "y0": 188.14731802327276,
          "y1": 190.14731802327276,
          "yref": "y"
         },
         {
          "line": {
           "color": "violet",
           "width": 250
          },
          "type": "circle",
          "x0": "Riley",
          "x1": "Riley",
          "xref": "x2",
          "y0": 188.14731802327276,
          "y1": 190.14731802327276,
          "yref": "y2"
         }
        ],
        "template": {
         "data": {
          "bar": [
           {
            "error_x": {
             "color": "#2a3f5f"
            },
            "error_y": {
             "color": "#2a3f5f"
            },
            "marker": {
             "line": {
              "color": "#E5ECF6",
              "width": 0.5
             },
             "pattern": {
              "fillmode": "overlay",
              "size": 10,
              "solidity": 0.2
             }
            },
            "type": "bar"
           }
          ],
          "barpolar": [
           {
            "marker": {
             "line": {
              "color": "#E5ECF6",
              "width": 0.5
             },
             "pattern": {
              "fillmode": "overlay",
              "size": 10,
              "solidity": 0.2
             }
            },
            "type": "barpolar"
           }
          ],
          "carpet": [
           {
            "aaxis": {
             "endlinecolor": "#2a3f5f",
             "gridcolor": "white",
             "linecolor": "white",
             "minorgridcolor": "white",
             "startlinecolor": "#2a3f5f"
            },
            "baxis": {
             "endlinecolor": "#2a3f5f",
             "gridcolor": "white",
             "linecolor": "white",
             "minorgridcolor": "white",
             "startlinecolor": "#2a3f5f"
            },
            "type": "carpet"
           }
          ],
          "choropleth": [
           {
            "colorbar": {
             "outlinewidth": 0,
             "ticks": ""
            },
            "type": "choropleth"
           }
          ],
          "contour": [
           {
            "colorbar": {
             "outlinewidth": 0,
             "ticks": ""
            },
            "colorscale": [
             [
              0,
              "#0d0887"
             ],
             [
              0.1111111111111111,
              "#46039f"
             ],
             [
              0.2222222222222222,
              "#7201a8"
             ],
             [
              0.3333333333333333,
              "#9c179e"
             ],
             [
              0.4444444444444444,
              "#bd3786"
             ],
             [
              0.5555555555555556,
              "#d8576b"
             ],
             [
              0.6666666666666666,
              "#ed7953"
             ],
             [
              0.7777777777777778,
              "#fb9f3a"
             ],
             [
              0.8888888888888888,
              "#fdca26"
             ],
             [
              1,
              "#f0f921"
             ]
            ],
            "type": "contour"
           }
          ],
          "contourcarpet": [
           {
            "colorbar": {
             "outlinewidth": 0,
             "ticks": ""
            },
            "type": "contourcarpet"
           }
          ],
          "heatmap": [
           {
            "colorbar": {
             "outlinewidth": 0,
             "ticks": ""
            },
            "colorscale": [
             [
              0,
              "#0d0887"
             ],
             [
              0.1111111111111111,
              "#46039f"
             ],
             [
              0.2222222222222222,
              "#7201a8"
             ],
             [
              0.3333333333333333,
              "#9c179e"
             ],
             [
              0.4444444444444444,
              "#bd3786"
             ],
             [
              0.5555555555555556,
              "#d8576b"
             ],
             [
              0.6666666666666666,
              "#ed7953"
             ],
             [
              0.7777777777777778,
              "#fb9f3a"
             ],
             [
              0.8888888888888888,
              "#fdca26"
             ],
             [
              1,
              "#f0f921"
             ]
            ],
            "type": "heatmap"
           }
          ],
          "heatmapgl": [
           {
            "colorbar": {
             "outlinewidth": 0,
             "ticks": ""
            },
            "colorscale": [
             [
              0,
              "#0d0887"
             ],
             [
              0.1111111111111111,
              "#46039f"
             ],
             [
              0.2222222222222222,
              "#7201a8"
             ],
             [
              0.3333333333333333,
              "#9c179e"
             ],
             [
              0.4444444444444444,
              "#bd3786"
             ],
             [
              0.5555555555555556,
              "#d8576b"
             ],
             [
              0.6666666666666666,
              "#ed7953"
             ],
             [
              0.7777777777777778,
              "#fb9f3a"
             ],
             [
              0.8888888888888888,
              "#fdca26"
             ],
             [
              1,
              "#f0f921"
             ]
            ],
            "type": "heatmapgl"
           }
          ],
          "histogram": [
           {
            "marker": {
             "pattern": {
              "fillmode": "overlay",
              "size": 10,
              "solidity": 0.2
             }
            },
            "type": "histogram"
           }
          ],
          "histogram2d": [
           {
            "colorbar": {
             "outlinewidth": 0,
             "ticks": ""
            },
            "colorscale": [
             [
              0,
              "#0d0887"
             ],
             [
              0.1111111111111111,
              "#46039f"
             ],
             [
              0.2222222222222222,
              "#7201a8"
             ],
             [
              0.3333333333333333,
              "#9c179e"
             ],
             [
              0.4444444444444444,
              "#bd3786"
             ],
             [
              0.5555555555555556,
              "#d8576b"
             ],
             [
              0.6666666666666666,
              "#ed7953"
             ],
             [
              0.7777777777777778,
              "#fb9f3a"
             ],
             [
              0.8888888888888888,
              "#fdca26"
             ],
             [
              1,
              "#f0f921"
             ]
            ],
            "type": "histogram2d"
           }
          ],
          "histogram2dcontour": [
           {
            "colorbar": {
             "outlinewidth": 0,
             "ticks": ""
            },
            "colorscale": [
             [
              0,
              "#0d0887"
             ],
             [
              0.1111111111111111,
              "#46039f"
             ],
             [
              0.2222222222222222,
              "#7201a8"
             ],
             [
              0.3333333333333333,
              "#9c179e"
             ],
             [
              0.4444444444444444,
              "#bd3786"
             ],
             [
              0.5555555555555556,
              "#d8576b"
             ],
             [
              0.6666666666666666,
              "#ed7953"
             ],
             [
              0.7777777777777778,
              "#fb9f3a"
             ],
             [
              0.8888888888888888,
              "#fdca26"
             ],
             [
              1,
              "#f0f921"
             ]
            ],
            "type": "histogram2dcontour"
           }
          ],
          "mesh3d": [
           {
            "colorbar": {
             "outlinewidth": 0,
             "ticks": ""
            },
            "type": "mesh3d"
           }
          ],
          "parcoords": [
           {
            "line": {
             "colorbar": {
              "outlinewidth": 0,
              "ticks": ""
             }
            },
            "type": "parcoords"
           }
          ],
          "pie": [
           {
            "automargin": true,
            "type": "pie"
           }
          ],
          "scatter": [
           {
            "fillpattern": {
             "fillmode": "overlay",
             "size": 10,
             "solidity": 0.2
            },
            "type": "scatter"
           }
          ],
          "scatter3d": [
           {
            "line": {
             "colorbar": {
              "outlinewidth": 0,
              "ticks": ""
             }
            },
            "marker": {
             "colorbar": {
              "outlinewidth": 0,
              "ticks": ""
             }
            },
            "type": "scatter3d"
           }
          ],
          "scattercarpet": [
           {
            "marker": {
             "colorbar": {
              "outlinewidth": 0,
              "ticks": ""
             }
            },
            "type": "scattercarpet"
           }
          ],
          "scattergeo": [
           {
            "marker": {
             "colorbar": {
              "outlinewidth": 0,
              "ticks": ""
             }
            },
            "type": "scattergeo"
           }
          ],
          "scattergl": [
           {
            "marker": {
             "colorbar": {
              "outlinewidth": 0,
              "ticks": ""
             }
            },
            "type": "scattergl"
           }
          ],
          "scattermapbox": [
           {
            "marker": {
             "colorbar": {
              "outlinewidth": 0,
              "ticks": ""
             }
            },
            "type": "scattermapbox"
           }
          ],
          "scatterpolar": [
           {
            "marker": {
             "colorbar": {
              "outlinewidth": 0,
              "ticks": ""
             }
            },
            "type": "scatterpolar"
           }
          ],
          "scatterpolargl": [
           {
            "marker": {
             "colorbar": {
              "outlinewidth": 0,
              "ticks": ""
             }
            },
            "type": "scatterpolargl"
           }
          ],
          "scatterternary": [
           {
            "marker": {
             "colorbar": {
              "outlinewidth": 0,
              "ticks": ""
             }
            },
            "type": "scatterternary"
           }
          ],
          "surface": [
           {
            "colorbar": {
             "outlinewidth": 0,
             "ticks": ""
            },
            "colorscale": [
             [
              0,
              "#0d0887"
             ],
             [
              0.1111111111111111,
              "#46039f"
             ],
             [
              0.2222222222222222,
              "#7201a8"
             ],
             [
              0.3333333333333333,
              "#9c179e"
             ],
             [
              0.4444444444444444,
              "#bd3786"
             ],
             [
              0.5555555555555556,
              "#d8576b"
             ],
             [
              0.6666666666666666,
              "#ed7953"
             ],
             [
              0.7777777777777778,
              "#fb9f3a"
             ],
             [
              0.8888888888888888,
              "#fdca26"
             ],
             [
              1,
              "#f0f921"
             ]
            ],
            "type": "surface"
           }
          ],
          "table": [
           {
            "cells": {
             "fill": {
              "color": "#EBF0F8"
             },
             "line": {
              "color": "white"
             }
            },
            "header": {
             "fill": {
              "color": "#C8D4E3"
             },
             "line": {
              "color": "white"
             }
            },
            "type": "table"
           }
          ]
         },
         "layout": {
          "annotationdefaults": {
           "arrowcolor": "#2a3f5f",
           "arrowhead": 0,
           "arrowwidth": 1
          },
          "autotypenumbers": "strict",
          "coloraxis": {
           "colorbar": {
            "outlinewidth": 0,
            "ticks": ""
           }
          },
          "colorscale": {
           "diverging": [
            [
             0,
             "#8e0152"
            ],
            [
             0.1,
             "#c51b7d"
            ],
            [
             0.2,
             "#de77ae"
            ],
            [
             0.3,
             "#f1b6da"
            ],
            [
             0.4,
             "#fde0ef"
            ],
            [
             0.5,
             "#f7f7f7"
            ],
            [
             0.6,
             "#e6f5d0"
            ],
            [
             0.7,
             "#b8e186"
            ],
            [
             0.8,
             "#7fbc41"
            ],
            [
             0.9,
             "#4d9221"
            ],
            [
             1,
             "#276419"
            ]
           ],
           "sequential": [
            [
             0,
             "#0d0887"
            ],
            [
             0.1111111111111111,
             "#46039f"
            ],
            [
             0.2222222222222222,
             "#7201a8"
            ],
            [
             0.3333333333333333,
             "#9c179e"
            ],
            [
             0.4444444444444444,
             "#bd3786"
            ],
            [
             0.5555555555555556,
             "#d8576b"
            ],
            [
             0.6666666666666666,
             "#ed7953"
            ],
            [
             0.7777777777777778,
             "#fb9f3a"
            ],
            [
             0.8888888888888888,
             "#fdca26"
            ],
            [
             1,
             "#f0f921"
            ]
           ],
           "sequentialminus": [
            [
             0,
             "#0d0887"
            ],
            [
             0.1111111111111111,
             "#46039f"
            ],
            [
             0.2222222222222222,
             "#7201a8"
            ],
            [
             0.3333333333333333,
             "#9c179e"
            ],
            [
             0.4444444444444444,
             "#bd3786"
            ],
            [
             0.5555555555555556,
             "#d8576b"
            ],
            [
             0.6666666666666666,
             "#ed7953"
            ],
            [
             0.7777777777777778,
             "#fb9f3a"
            ],
            [
             0.8888888888888888,
             "#fdca26"
            ],
            [
             1,
             "#f0f921"
            ]
           ]
          },
          "colorway": [
           "#636efa",
           "#EF553B",
           "#00cc96",
           "#ab63fa",
           "#FFA15A",
           "#19d3f3",
           "#FF6692",
           "#B6E880",
           "#FF97FF",
           "#FECB52"
          ],
          "font": {
           "color": "#2a3f5f"
          },
          "geo": {
           "bgcolor": "white",
           "lakecolor": "white",
           "landcolor": "#E5ECF6",
           "showlakes": true,
           "showland": true,
           "subunitcolor": "white"
          },
          "hoverlabel": {
           "align": "left"
          },
          "hovermode": "closest",
          "mapbox": {
           "style": "light"
          },
          "paper_bgcolor": "white",
          "plot_bgcolor": "#E5ECF6",
          "polar": {
           "angularaxis": {
            "gridcolor": "white",
            "linecolor": "white",
            "ticks": ""
           },
           "bgcolor": "#E5ECF6",
           "radialaxis": {
            "gridcolor": "white",
            "linecolor": "white",
            "ticks": ""
           }
          },
          "scene": {
           "xaxis": {
            "backgroundcolor": "#E5ECF6",
            "gridcolor": "white",
            "gridwidth": 2,
            "linecolor": "white",
            "showbackground": true,
            "ticks": "",
            "zerolinecolor": "white"
           },
           "yaxis": {
            "backgroundcolor": "#E5ECF6",
            "gridcolor": "white",
            "gridwidth": 2,
            "linecolor": "white",
            "showbackground": true,
            "ticks": "",
            "zerolinecolor": "white"
           },
           "zaxis": {
            "backgroundcolor": "#E5ECF6",
            "gridcolor": "white",
            "gridwidth": 2,
            "linecolor": "white",
            "showbackground": true,
            "ticks": "",
            "zerolinecolor": "white"
           }
          },
          "shapedefaults": {
           "line": {
            "color": "#2a3f5f"
           }
          },
          "ternary": {
           "aaxis": {
            "gridcolor": "white",
            "linecolor": "white",
            "ticks": ""
           },
           "baxis": {
            "gridcolor": "white",
            "linecolor": "white",
            "ticks": ""
           },
           "bgcolor": "#E5ECF6",
           "caxis": {
            "gridcolor": "white",
            "linecolor": "white",
            "ticks": ""
           }
          },
          "title": {
           "x": 0.05
          },
          "xaxis": {
           "automargin": true,
           "gridcolor": "white",
           "linecolor": "white",
           "ticks": "",
           "title": {
            "standoff": 15
           },
           "zerolinecolor": "white",
           "zerolinewidth": 2
          },
          "yaxis": {
           "automargin": true,
           "gridcolor": "white",
           "linecolor": "white",
           "ticks": "",
           "title": {
            "standoff": 15
           },
           "zerolinecolor": "white",
           "zerolinewidth": 2
          }
         }
        },
        "xaxis": {
         "anchor": "y",
         "domain": [
          0,
          0.49
         ],
         "title": {
          "text": ""
         }
        },
        "xaxis2": {
         "anchor": "y2",
         "domain": [
          0.51,
          1
         ],
         "matches": "x",
         "title": {
          "text": ""
         }
        },
        "yaxis": {
         "anchor": "x",
         "domain": [
          0,
          1
         ],
         "range": [
          0,
          206.3333333333333
         ],
         "title": {
          "text": "Yield"
         }
        },
        "yaxis2": {
         "anchor": "x2",
         "domain": [
          0,
          1
         ],
         "matches": "y",
         "showticklabels": false
        }
       }
      },
      "text/html": [
       "<div>                            <div id=\"6c3b0fd4-a428-4a8f-aa10-a89b710c312e\" class=\"plotly-graph-div\" style=\"height:525px; width:100%;\"></div>            <script type=\"text/javascript\">                require([\"plotly\"], function(Plotly) {                    window.PLOTLYENV=window.PLOTLYENV || {};                                    if (document.getElementById(\"6c3b0fd4-a428-4a8f-aa10-a89b710c312e\")) {                    Plotly.newPlot(                        \"6c3b0fd4-a428-4a8f-aa10-a89b710c312e\",                        [{\"alignmentgroup\":\"True\",\"hovertemplate\":\"Water Regime=Dryland\\u003cbr\\u003eName=349PR\\u003cbr\\u003eCounty=%{x}\\u003cbr\\u003eYield=%{y}\\u003cextra\\u003e\\u003c\\u002fextra\\u003e\",\"legendgroup\":\"Dryland\",\"marker\":{\"color\":\"orange\",\"pattern\":{\"shape\":\"\"}},\"name\":\"Dryland\",\"offsetgroup\":\"Dryland\",\"orientation\":\"v\",\"showlegend\":true,\"textposition\":\"auto\",\"x\":[\"Pottawatomie\",\"Republic\",\"Riley\"],\"xaxis\":\"x\",\"y\":[171.16025,196.3333333333333,167.82882471682166],\"yaxis\":\"y\",\"type\":\"bar\"},{\"alignmentgroup\":\"True\",\"hovertemplate\":\"Water Regime=Dryland\\u003cbr\\u003eName=150PRX\\u003cbr\\u003eCounty=%{x}\\u003cbr\\u003eYield=%{y}\\u003cextra\\u003e\\u003c\\u002fextra\\u003e\",\"legendgroup\":\"Dryland\",\"marker\":{\"color\":\"orange\",\"pattern\":{\"shape\":\"\"}},\"name\":\"Dryland\",\"offsetgroup\":\"Dryland\",\"orientation\":\"v\",\"showlegend\":false,\"textposition\":\"auto\",\"x\":[\"Franklin\",\"Labette\"],\"xaxis\":\"x2\",\"y\":[127.99006863873272,128.90407787864308],\"yaxis\":\"y2\",\"type\":\"bar\"},{\"alignmentgroup\":\"True\",\"hovertemplate\":\"Water Regime=no_record\\u003cbr\\u003eName=349PR\\u003cbr\\u003eCounty=%{x}\\u003cbr\\u003eYield=%{y}\\u003cextra\\u003e\\u003c\\u002fextra\\u003e\",\"legendgroup\":\"no_record\",\"marker\":{\"color\":\"#343541\",\"pattern\":{\"shape\":\"\"}},\"name\":\"no_record\",\"offsetgroup\":\"no_record\",\"orientation\":\"v\",\"showlegend\":true,\"textposition\":\"auto\",\"x\":[\"Franklin\",\"Labette\"],\"xaxis\":\"x\",\"y\":[246.3333333333333,246.3333333333333],\"yaxis\":\"y\",\"type\":\"bar\"},{\"alignmentgroup\":\"True\",\"hovertemplate\":\"Water Regime=no_record\\u003cbr\\u003eName=150PRX\\u003cbr\\u003eCounty=%{x}\\u003cbr\\u003eYield=%{y}\\u003cextra\\u003e\\u003c\\u002fextra\\u003e\",\"legendgroup\":\"no_record\",\"marker\":{\"color\":\"#343541\",\"pattern\":{\"shape\":\"\"}},\"name\":\"no_record\",\"offsetgroup\":\"no_record\",\"orientation\":\"v\",\"showlegend\":false,\"textposition\":\"auto\",\"x\":[\"Pottawatomie\",\"Republic\",\"Riley\"],\"xaxis\":\"x2\",\"y\":[246.3333333333333,246.3333333333333,246.3333333333333],\"yaxis\":\"y2\",\"type\":\"bar\"},{\"hovertemplate\":\"COUNTY=%{x}\\u003cbr\\u003eavg=%{y}\\u003cextra\\u003e\\u003c\\u002fextra\\u003e\",\"legendgroup\":\"\",\"marker\":{\"color\":\"#636efa\",\"symbol\":\"circle\"},\"mode\":\"markers\",\"name\":\"\",\"orientation\":\"v\",\"showlegend\":false,\"x\":[\"Pottawatomie\"],\"xaxis\":\"x\",\"y\":[179.7297125],\"yaxis\":\"y\",\"type\":\"scatter\"},{\"hovertemplate\":\"COUNTY=%{x}\\u003cbr\\u003eavg=%{y}\\u003cextra\\u003e\\u003c\\u002fextra\\u003e\",\"legendgroup\":\"\",\"marker\":{\"color\":\"#636efa\",\"symbol\":\"circle\"},\"mode\":\"markers\",\"name\":\"\",\"orientation\":\"v\",\"showlegend\":false,\"x\":[\"Pottawatomie\"],\"xaxis\":\"x2\",\"y\":[179.7297125],\"yaxis\":\"y2\",\"type\":\"scatter\"},{\"hovertemplate\":\"COUNTY=%{x}\\u003cbr\\u003eavg=%{y}\\u003cextra\\u003e\\u003c\\u002fextra\\u003e\",\"legendgroup\":\"\",\"marker\":{\"color\":\"#636efa\",\"symbol\":\"circle\"},\"mode\":\"markers\",\"name\":\"\",\"orientation\":\"v\",\"showlegend\":false,\"x\":[\"Republic\"],\"xaxis\":\"x\",\"y\":[175.72807017543857],\"yaxis\":\"y\",\"type\":\"scatter\"},{\"hovertemplate\":\"COUNTY=%{x}\\u003cbr\\u003eavg=%{y}\\u003cextra\\u003e\\u003c\\u002fextra\\u003e\",\"legendgroup\":\"\",\"marker\":{\"color\":\"#636efa\",\"symbol\":\"circle\"},\"mode\":\"markers\",\"name\":\"\",\"orientation\":\"v\",\"showlegend\":false,\"x\":[\"Republic\"],\"xaxis\":\"x2\",\"y\":[175.72807017543857],\"yaxis\":\"y2\",\"type\":\"scatter\"},{\"hovertemplate\":\"COUNTY=%{x}\\u003cbr\\u003eavg=%{y}\\u003cextra\\u003e\\u003c\\u002fextra\\u003e\",\"legendgroup\":\"\",\"marker\":{\"color\":\"#636efa\",\"symbol\":\"circle\"},\"mode\":\"markers\",\"name\":\"\",\"orientation\":\"v\",\"showlegend\":false,\"x\":[\"Franklin\"],\"xaxis\":\"x\",\"y\":[156.82811291706128],\"yaxis\":\"y\",\"type\":\"scatter\"},{\"hovertemplate\":\"COUNTY=%{x}\\u003cbr\\u003eavg=%{y}\\u003cextra\\u003e\\u003c\\u002fextra\\u003e\",\"legendgroup\":\"\",\"marker\":{\"color\":\"#636efa\",\"symbol\":\"circle\"},\"mode\":\"markers\",\"name\":\"\",\"orientation\":\"v\",\"showlegend\":false,\"x\":[\"Franklin\"],\"xaxis\":\"x2\",\"y\":[156.82811291706128],\"yaxis\":\"y2\",\"type\":\"scatter\"},{\"hovertemplate\":\"COUNTY=%{x}\\u003cbr\\u003eavg=%{y}\\u003cextra\\u003e\\u003c\\u002fextra\\u003e\",\"legendgroup\":\"\",\"marker\":{\"color\":\"#636efa\",\"symbol\":\"circle\"},\"mode\":\"markers\",\"name\":\"\",\"orientation\":\"v\",\"showlegend\":false,\"x\":[\"Labette\"],\"xaxis\":\"x\",\"y\":[140.77745650730063],\"yaxis\":\"y\",\"type\":\"scatter\"},{\"hovertemplate\":\"COUNTY=%{x}\\u003cbr\\u003eavg=%{y}\\u003cextra\\u003e\\u003c\\u002fextra\\u003e\",\"legendgroup\":\"\",\"marker\":{\"color\":\"#636efa\",\"symbol\":\"circle\"},\"mode\":\"markers\",\"name\":\"\",\"orientation\":\"v\",\"showlegend\":false,\"x\":[\"Labette\"],\"xaxis\":\"x2\",\"y\":[140.77745650730063],\"yaxis\":\"y2\",\"type\":\"scatter\"},{\"hovertemplate\":\"COUNTY=%{x}\\u003cbr\\u003eavg=%{y}\\u003cextra\\u003e\\u003c\\u002fextra\\u003e\",\"legendgroup\":\"\",\"marker\":{\"color\":\"#636efa\",\"symbol\":\"circle\"},\"mode\":\"markers\",\"name\":\"\",\"orientation\":\"v\",\"showlegend\":false,\"x\":[\"Riley\"],\"xaxis\":\"x\",\"y\":[189.14731802327276],\"yaxis\":\"y\",\"type\":\"scatter\"},{\"hovertemplate\":\"COUNTY=%{x}\\u003cbr\\u003eavg=%{y}\\u003cextra\\u003e\\u003c\\u002fextra\\u003e\",\"legendgroup\":\"\",\"marker\":{\"color\":\"#636efa\",\"symbol\":\"circle\"},\"mode\":\"markers\",\"name\":\"\",\"orientation\":\"v\",\"showlegend\":false,\"x\":[\"Riley\"],\"xaxis\":\"x2\",\"y\":[189.14731802327276],\"yaxis\":\"y2\",\"type\":\"scatter\"}],                        {\"template\":{\"data\":{\"histogram2dcontour\":[{\"type\":\"histogram2dcontour\",\"colorbar\":{\"outlinewidth\":0,\"ticks\":\"\"},\"colorscale\":[[0.0,\"#0d0887\"],[0.1111111111111111,\"#46039f\"],[0.2222222222222222,\"#7201a8\"],[0.3333333333333333,\"#9c179e\"],[0.4444444444444444,\"#bd3786\"],[0.5555555555555556,\"#d8576b\"],[0.6666666666666666,\"#ed7953\"],[0.7777777777777778,\"#fb9f3a\"],[0.8888888888888888,\"#fdca26\"],[1.0,\"#f0f921\"]]}],\"choropleth\":[{\"type\":\"choropleth\",\"colorbar\":{\"outlinewidth\":0,\"ticks\":\"\"}}],\"histogram2d\":[{\"type\":\"histogram2d\",\"colorbar\":{\"outlinewidth\":0,\"ticks\":\"\"},\"colorscale\":[[0.0,\"#0d0887\"],[0.1111111111111111,\"#46039f\"],[0.2222222222222222,\"#7201a8\"],[0.3333333333333333,\"#9c179e\"],[0.4444444444444444,\"#bd3786\"],[0.5555555555555556,\"#d8576b\"],[0.6666666666666666,\"#ed7953\"],[0.7777777777777778,\"#fb9f3a\"],[0.8888888888888888,\"#fdca26\"],[1.0,\"#f0f921\"]]}],\"heatmap\":[{\"type\":\"heatmap\",\"colorbar\":{\"outlinewidth\":0,\"ticks\":\"\"},\"colorscale\":[[0.0,\"#0d0887\"],[0.1111111111111111,\"#46039f\"],[0.2222222222222222,\"#7201a8\"],[0.3333333333333333,\"#9c179e\"],[0.4444444444444444,\"#bd3786\"],[0.5555555555555556,\"#d8576b\"],[0.6666666666666666,\"#ed7953\"],[0.7777777777777778,\"#fb9f3a\"],[0.8888888888888888,\"#fdca26\"],[1.0,\"#f0f921\"]]}],\"heatmapgl\":[{\"type\":\"heatmapgl\",\"colorbar\":{\"outlinewidth\":0,\"ticks\":\"\"},\"colorscale\":[[0.0,\"#0d0887\"],[0.1111111111111111,\"#46039f\"],[0.2222222222222222,\"#7201a8\"],[0.3333333333333333,\"#9c179e\"],[0.4444444444444444,\"#bd3786\"],[0.5555555555555556,\"#d8576b\"],[0.6666666666666666,\"#ed7953\"],[0.7777777777777778,\"#fb9f3a\"],[0.8888888888888888,\"#fdca26\"],[1.0,\"#f0f921\"]]}],\"contourcarpet\":[{\"type\":\"contourcarpet\",\"colorbar\":{\"outlinewidth\":0,\"ticks\":\"\"}}],\"contour\":[{\"type\":\"contour\",\"colorbar\":{\"outlinewidth\":0,\"ticks\":\"\"},\"colorscale\":[[0.0,\"#0d0887\"],[0.1111111111111111,\"#46039f\"],[0.2222222222222222,\"#7201a8\"],[0.3333333333333333,\"#9c179e\"],[0.4444444444444444,\"#bd3786\"],[0.5555555555555556,\"#d8576b\"],[0.6666666666666666,\"#ed7953\"],[0.7777777777777778,\"#fb9f3a\"],[0.8888888888888888,\"#fdca26\"],[1.0,\"#f0f921\"]]}],\"surface\":[{\"type\":\"surface\",\"colorbar\":{\"outlinewidth\":0,\"ticks\":\"\"},\"colorscale\":[[0.0,\"#0d0887\"],[0.1111111111111111,\"#46039f\"],[0.2222222222222222,\"#7201a8\"],[0.3333333333333333,\"#9c179e\"],[0.4444444444444444,\"#bd3786\"],[0.5555555555555556,\"#d8576b\"],[0.6666666666666666,\"#ed7953\"],[0.7777777777777778,\"#fb9f3a\"],[0.8888888888888888,\"#fdca26\"],[1.0,\"#f0f921\"]]}],\"mesh3d\":[{\"type\":\"mesh3d\",\"colorbar\":{\"outlinewidth\":0,\"ticks\":\"\"}}],\"scatter\":[{\"fillpattern\":{\"fillmode\":\"overlay\",\"size\":10,\"solidity\":0.2},\"type\":\"scatter\"}],\"parcoords\":[{\"type\":\"parcoords\",\"line\":{\"colorbar\":{\"outlinewidth\":0,\"ticks\":\"\"}}}],\"scatterpolargl\":[{\"type\":\"scatterpolargl\",\"marker\":{\"colorbar\":{\"outlinewidth\":0,\"ticks\":\"\"}}}],\"bar\":[{\"error_x\":{\"color\":\"#2a3f5f\"},\"error_y\":{\"color\":\"#2a3f5f\"},\"marker\":{\"line\":{\"color\":\"#E5ECF6\",\"width\":0.5},\"pattern\":{\"fillmode\":\"overlay\",\"size\":10,\"solidity\":0.2}},\"type\":\"bar\"}],\"scattergeo\":[{\"type\":\"scattergeo\",\"marker\":{\"colorbar\":{\"outlinewidth\":0,\"ticks\":\"\"}}}],\"scatterpolar\":[{\"type\":\"scatterpolar\",\"marker\":{\"colorbar\":{\"outlinewidth\":0,\"ticks\":\"\"}}}],\"histogram\":[{\"marker\":{\"pattern\":{\"fillmode\":\"overlay\",\"size\":10,\"solidity\":0.2}},\"type\":\"histogram\"}],\"scattergl\":[{\"type\":\"scattergl\",\"marker\":{\"colorbar\":{\"outlinewidth\":0,\"ticks\":\"\"}}}],\"scatter3d\":[{\"type\":\"scatter3d\",\"line\":{\"colorbar\":{\"outlinewidth\":0,\"ticks\":\"\"}},\"marker\":{\"colorbar\":{\"outlinewidth\":0,\"ticks\":\"\"}}}],\"scattermapbox\":[{\"type\":\"scattermapbox\",\"marker\":{\"colorbar\":{\"outlinewidth\":0,\"ticks\":\"\"}}}],\"scatterternary\":[{\"type\":\"scatterternary\",\"marker\":{\"colorbar\":{\"outlinewidth\":0,\"ticks\":\"\"}}}],\"scattercarpet\":[{\"type\":\"scattercarpet\",\"marker\":{\"colorbar\":{\"outlinewidth\":0,\"ticks\":\"\"}}}],\"carpet\":[{\"aaxis\":{\"endlinecolor\":\"#2a3f5f\",\"gridcolor\":\"white\",\"linecolor\":\"white\",\"minorgridcolor\":\"white\",\"startlinecolor\":\"#2a3f5f\"},\"baxis\":{\"endlinecolor\":\"#2a3f5f\",\"gridcolor\":\"white\",\"linecolor\":\"white\",\"minorgridcolor\":\"white\",\"startlinecolor\":\"#2a3f5f\"},\"type\":\"carpet\"}],\"table\":[{\"cells\":{\"fill\":{\"color\":\"#EBF0F8\"},\"line\":{\"color\":\"white\"}},\"header\":{\"fill\":{\"color\":\"#C8D4E3\"},\"line\":{\"color\":\"white\"}},\"type\":\"table\"}],\"barpolar\":[{\"marker\":{\"line\":{\"color\":\"#E5ECF6\",\"width\":0.5},\"pattern\":{\"fillmode\":\"overlay\",\"size\":10,\"solidity\":0.2}},\"type\":\"barpolar\"}],\"pie\":[{\"automargin\":true,\"type\":\"pie\"}]},\"layout\":{\"autotypenumbers\":\"strict\",\"colorway\":[\"#636efa\",\"#EF553B\",\"#00cc96\",\"#ab63fa\",\"#FFA15A\",\"#19d3f3\",\"#FF6692\",\"#B6E880\",\"#FF97FF\",\"#FECB52\"],\"font\":{\"color\":\"#2a3f5f\"},\"hovermode\":\"closest\",\"hoverlabel\":{\"align\":\"left\"},\"paper_bgcolor\":\"white\",\"plot_bgcolor\":\"#E5ECF6\",\"polar\":{\"bgcolor\":\"#E5ECF6\",\"angularaxis\":{\"gridcolor\":\"white\",\"linecolor\":\"white\",\"ticks\":\"\"},\"radialaxis\":{\"gridcolor\":\"white\",\"linecolor\":\"white\",\"ticks\":\"\"}},\"ternary\":{\"bgcolor\":\"#E5ECF6\",\"aaxis\":{\"gridcolor\":\"white\",\"linecolor\":\"white\",\"ticks\":\"\"},\"baxis\":{\"gridcolor\":\"white\",\"linecolor\":\"white\",\"ticks\":\"\"},\"caxis\":{\"gridcolor\":\"white\",\"linecolor\":\"white\",\"ticks\":\"\"}},\"coloraxis\":{\"colorbar\":{\"outlinewidth\":0,\"ticks\":\"\"}},\"colorscale\":{\"sequential\":[[0.0,\"#0d0887\"],[0.1111111111111111,\"#46039f\"],[0.2222222222222222,\"#7201a8\"],[0.3333333333333333,\"#9c179e\"],[0.4444444444444444,\"#bd3786\"],[0.5555555555555556,\"#d8576b\"],[0.6666666666666666,\"#ed7953\"],[0.7777777777777778,\"#fb9f3a\"],[0.8888888888888888,\"#fdca26\"],[1.0,\"#f0f921\"]],\"sequentialminus\":[[0.0,\"#0d0887\"],[0.1111111111111111,\"#46039f\"],[0.2222222222222222,\"#7201a8\"],[0.3333333333333333,\"#9c179e\"],[0.4444444444444444,\"#bd3786\"],[0.5555555555555556,\"#d8576b\"],[0.6666666666666666,\"#ed7953\"],[0.7777777777777778,\"#fb9f3a\"],[0.8888888888888888,\"#fdca26\"],[1.0,\"#f0f921\"]],\"diverging\":[[0,\"#8e0152\"],[0.1,\"#c51b7d\"],[0.2,\"#de77ae\"],[0.3,\"#f1b6da\"],[0.4,\"#fde0ef\"],[0.5,\"#f7f7f7\"],[0.6,\"#e6f5d0\"],[0.7,\"#b8e186\"],[0.8,\"#7fbc41\"],[0.9,\"#4d9221\"],[1,\"#276419\"]]},\"xaxis\":{\"gridcolor\":\"white\",\"linecolor\":\"white\",\"ticks\":\"\",\"title\":{\"standoff\":15},\"zerolinecolor\":\"white\",\"automargin\":true,\"zerolinewidth\":2},\"yaxis\":{\"gridcolor\":\"white\",\"linecolor\":\"white\",\"ticks\":\"\",\"title\":{\"standoff\":15},\"zerolinecolor\":\"white\",\"automargin\":true,\"zerolinewidth\":2},\"scene\":{\"xaxis\":{\"backgroundcolor\":\"#E5ECF6\",\"gridcolor\":\"white\",\"linecolor\":\"white\",\"showbackground\":true,\"ticks\":\"\",\"zerolinecolor\":\"white\",\"gridwidth\":2},\"yaxis\":{\"backgroundcolor\":\"#E5ECF6\",\"gridcolor\":\"white\",\"linecolor\":\"white\",\"showbackground\":true,\"ticks\":\"\",\"zerolinecolor\":\"white\",\"gridwidth\":2},\"zaxis\":{\"backgroundcolor\":\"#E5ECF6\",\"gridcolor\":\"white\",\"linecolor\":\"white\",\"showbackground\":true,\"ticks\":\"\",\"zerolinecolor\":\"white\",\"gridwidth\":2}},\"shapedefaults\":{\"line\":{\"color\":\"#2a3f5f\"}},\"annotationdefaults\":{\"arrowcolor\":\"#2a3f5f\",\"arrowhead\":0,\"arrowwidth\":1},\"geo\":{\"bgcolor\":\"white\",\"landcolor\":\"#E5ECF6\",\"subunitcolor\":\"white\",\"showland\":true,\"showlakes\":true,\"lakecolor\":\"white\"},\"title\":{\"x\":0.05},\"mapbox\":{\"style\":\"light\"}}},\"xaxis\":{\"anchor\":\"y\",\"domain\":[0.0,0.49],\"title\":{\"text\":\"\"}},\"yaxis\":{\"anchor\":\"x\",\"domain\":[0.0,1.0],\"title\":{\"text\":\"Yield\"},\"range\":[0,206.3333333333333]},\"xaxis2\":{\"anchor\":\"y2\",\"domain\":[0.51,1.0],\"matches\":\"x\",\"title\":{\"text\":\"\"}},\"yaxis2\":{\"anchor\":\"x2\",\"domain\":[0.0,1.0],\"matches\":\"y\",\"showticklabels\":false},\"annotations\":[{\"font\":{},\"showarrow\":false,\"text\":\"349PR\",\"x\":0.245,\"xanchor\":\"center\",\"xref\":\"paper\",\"y\":1.0,\"yanchor\":\"bottom\",\"yref\":\"paper\"},{\"font\":{},\"showarrow\":false,\"text\":\"150PRX\",\"x\":0.755,\"xanchor\":\"center\",\"xref\":\"paper\",\"y\":1.0,\"yanchor\":\"bottom\",\"yref\":\"paper\"}],\"legend\":{\"title\":{\"text\":\"Water Regime\"},\"tracegroupgap\":0},\"margin\":{\"t\":60},\"barmode\":\"group\",\"shapes\":[{\"line\":{\"color\":\"violet\",\"width\":250},\"type\":\"circle\",\"x0\":\"Pottawatomie\",\"x1\":\"Pottawatomie\",\"xref\":\"x\",\"y0\":178.7297125,\"y1\":180.7297125,\"yref\":\"y\"},{\"line\":{\"color\":\"violet\",\"width\":250},\"type\":\"circle\",\"x0\":\"Pottawatomie\",\"x1\":\"Pottawatomie\",\"xref\":\"x2\",\"y0\":178.7297125,\"y1\":180.7297125,\"yref\":\"y2\"},{\"line\":{\"color\":\"violet\",\"width\":250},\"type\":\"circle\",\"x0\":\"Republic\",\"x1\":\"Republic\",\"xref\":\"x\",\"y0\":174.72807017543857,\"y1\":176.72807017543857,\"yref\":\"y\"},{\"line\":{\"color\":\"violet\",\"width\":250},\"type\":\"circle\",\"x0\":\"Republic\",\"x1\":\"Republic\",\"xref\":\"x2\",\"y0\":174.72807017543857,\"y1\":176.72807017543857,\"yref\":\"y2\"},{\"line\":{\"color\":\"violet\",\"width\":250},\"type\":\"circle\",\"x0\":\"Franklin\",\"x1\":\"Franklin\",\"xref\":\"x\",\"y0\":155.82811291706128,\"y1\":157.82811291706128,\"yref\":\"y\"},{\"line\":{\"color\":\"violet\",\"width\":250},\"type\":\"circle\",\"x0\":\"Franklin\",\"x1\":\"Franklin\",\"xref\":\"x2\",\"y0\":155.82811291706128,\"y1\":157.82811291706128,\"yref\":\"y2\"},{\"line\":{\"color\":\"violet\",\"width\":250},\"type\":\"circle\",\"x0\":\"Labette\",\"x1\":\"Labette\",\"xref\":\"x\",\"y0\":139.77745650730063,\"y1\":141.77745650730063,\"yref\":\"y\"},{\"line\":{\"color\":\"violet\",\"width\":250},\"type\":\"circle\",\"x0\":\"Labette\",\"x1\":\"Labette\",\"xref\":\"x2\",\"y0\":139.77745650730063,\"y1\":141.77745650730063,\"yref\":\"y2\"},{\"line\":{\"color\":\"violet\",\"width\":250},\"type\":\"circle\",\"x0\":\"Riley\",\"x1\":\"Riley\",\"xref\":\"x\",\"y0\":188.14731802327276,\"y1\":190.14731802327276,\"yref\":\"y\"},{\"line\":{\"color\":\"violet\",\"width\":250},\"type\":\"circle\",\"x0\":\"Riley\",\"x1\":\"Riley\",\"xref\":\"x2\",\"y0\":188.14731802327276,\"y1\":190.14731802327276,\"yref\":\"y2\"}]},                        {\"responsive\": true}                    ).then(function(){\n",
       "                            \n",
       "var gd = document.getElementById('6c3b0fd4-a428-4a8f-aa10-a89b710c312e');\n",
       "var x = new MutationObserver(function (mutations, observer) {{\n",
       "        var display = window.getComputedStyle(gd).display;\n",
       "        if (!display || display === 'none') {{\n",
       "            console.log([gd, 'removed!']);\n",
       "            Plotly.purge(gd);\n",
       "            observer.disconnect();\n",
       "        }}\n",
       "}});\n",
       "\n",
       "// Listen for the removal of the full notebook cells\n",
       "var notebookContainer = gd.closest('#notebook-container');\n",
       "if (notebookContainer) {{\n",
       "    x.observe(notebookContainer, {childList: true});\n",
       "}}\n",
       "\n",
       "// Listen for the clearing of the current output cell\n",
       "var outputEl = gd.closest('.output');\n",
       "if (outputEl) {{\n",
       "    x.observe(outputEl, {childList: true});\n",
       "}}\n",
       "\n",
       "                        })                };                });            </script>        </div>"
      ]
     },
     "metadata": {},
     "output_type": "display_data"
    }
   ],
   "source": [
    "color_map = {'Irrigated': 'darkblue', 'Dryland': 'orange', 'no_record': '#343541'}\n",
    "\n",
    "fig = px.bar(df, x='COUNTY', y='YIELD',\n",
    "                color_discrete_map=color_map,\n",
    "                facet_col=col2,\n",
    "                color='WATER_REGIME', barmode='group',\n",
    "                labels={'NAME': 'Name', 'YIELD': f'Yield',\n",
    "                        'WATER_REGIME': 'Water Regime', 'YEAR': 'Year', 'COUNTY': 'County', \"no_record\": \"No Record\"})\n",
    "\n",
    "fig.for_each_annotation(lambda a: a.update(\n",
    "    text=a.text.replace(\"Name=\", \"\"))\n",
    ")\n",
    "fig.for_each_xaxis(lambda x: x.update({'title': ''}))\n",
    "\n",
    "# avg line\n",
    "for county in df['COUNTY'].unique():\n",
    "    curr = avg[avg['COUNTY'] == county]\n",
    "    # fig.add_hline(x=10, y=curr.avg.iloc[0], line_dash=\"dot\", row=\"all\", col=\"all\")\n",
    "    fig.add_trace(px.scatter(curr, x='COUNTY', y='avg').data[0], row='all', col='all')\n",
    "    fig.add_shape(\n",
    "        type='circle',\n",
    "        x0=county,\n",
    "        x1=county,\n",
    "        y0=curr['avg'].min() - 1,\n",
    "        y1=curr['avg'].min() + 1,\n",
    "        line=dict(color='violet', width=250),\n",
    "        row=\"all\",\n",
    "        col=\"all\"\n",
    "    )\n",
    "\n",
    "\n",
    "fig.update_layout(yaxis=dict(range=[0, yield_max + 10]))\n",
    "\n",
    "fig.show()"
   ]
  }
 ],
 "metadata": {
  "kernelspec": {
   "display_name": "ciampitti_lab",
   "language": "python",
   "name": "python3"
  },
  "language_info": {
   "codemirror_mode": {
    "name": "ipython",
    "version": 3
   },
   "file_extension": ".py",
   "mimetype": "text/x-python",
   "name": "python",
   "nbconvert_exporter": "python",
   "pygments_lexer": "ipython3",
   "version": "3.11.5"
  }
 },
 "nbformat": 4,
 "nbformat_minor": 2
}
